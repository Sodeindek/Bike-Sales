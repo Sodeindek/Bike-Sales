{
 "cells": [
  {
   "cell_type": "markdown",
   "id": "5757cb92",
   "metadata": {},
   "source": [
    "# Bike Sales Analysis"
   ]
  },
  {
   "cell_type": "markdown",
   "id": "491b8937",
   "metadata": {},
   "source": [
    "## Introduction\n",
    "A local bike shop or local bicycle shop, sometimes abbreviated LBS, is a small business, as distinct from a chain, mail-order or online vendor, specializing in bicycle sale, maintenance and parts. We shall be analyzing an international Bike Shop in respect to their sales."
   ]
  },
  {
   "cell_type": "markdown",
   "id": "3fcbbde6",
   "metadata": {},
   "source": [
    "## Data Validation\n",
    "Before I procceded with my analysis, I ensured I perfomed thorough data validation and data wrangling to the dataset that was provided to me, my results are well explained below:\n",
    "\n",
    "The original data consist of 113036 rows and 18 columns, namely; 'Date', 'Day', 'Month', 'Year', 'Customer_Age', 'Age_Group', 'Customer_Gender', 'Country', 'State', 'Product_Category','Sub_Category', 'Product', 'Order_Quantity','Unit_Cost','Unit_Price',\n",
    " 'Profit', 'Cost', 'Revenue'\n",
    "\n",
    "I checked through the entire columns,\n",
    "I observed no null values,neither were there any duplicated rows\n",
    "I replace gender column values 'M' and 'F' with 'Male'and 'Female'\n",
    "\n",
    "There are 53 unique states in the dataset.\n",
    "Ratings ranged between 1 and 10, all being within the expected range.\n",
    "There are a total of 833 distinct vendors' id\n",
    "There are 11 unique product categories.\n",
    "There are 4 unique pet type.\n",
    "There are 5 unique pet size.\n",
    "the rebuy option contains 'More than once' and 'Once'."
   ]
  },
  {
   "cell_type": "markdown",
   "id": "19e0b340",
   "metadata": {},
   "source": [
    "## Questions\n",
    "- what is the age distribution of the customers?\n",
    "- what is the most profitable year?\n",
    "- what is the most profitable month?\n",
    "- which Gender has the most orders?\n",
    "- which country/state generates the highest revenue?\n",
    "- which category/subcategory generates the most profit?"
   ]
  },
  {
   "cell_type": "markdown",
   "id": "02602604",
   "metadata": {},
   "source": [
    "## Exploratory Data Analysis (EDA)\n",
    "In this phase, i used several mathematical tools and packages to explore and analyze my data, i made use of different visualization graphs to clearly demostrate relationships between variables, findings are explained below;\n",
    "\n",
    "- They seem to be more male customers(51.6%) than female customers(48.4%)\n",
    "- In terms of age group, Adults(35-64) was the most popular age group with over 49.4% of the entire population, while Seniors(64 and above) patronized the company ther least(0.6%)\n",
    "- In terms of yearof operations, 2015 was the most profitable year,with the company grosssing 7,528,563, while the December 2015 saw the highest ever monthly sales(1,479,542) This could be as a result of the holidays in December.\n",
    "- Within the time frame of 2011 to 2015, United States of America(USA) generated the highest revenue 27,975,547, which is approximately 33% of the entire countries revenue, Canada was the least as it generated only 7,935,738.\n",
    "- The city of California generated the highest revenue in terms of state.\n",
    "\n",
    "\n",
    "## Limitations\n",
    "- There was no limitations working with this dataset."
   ]
  }
 ],
 "metadata": {
  "kernelspec": {
   "display_name": "Python 3",
   "language": "python",
   "name": "python3"
  },
  "language_info": {
   "codemirror_mode": {
    "name": "ipython",
    "version": 3
   },
   "file_extension": ".py",
   "mimetype": "text/x-python",
   "name": "python",
   "nbconvert_exporter": "python",
   "pygments_lexer": "ipython3",
   "version": "3.8.8"
  }
 },
 "nbformat": 4,
 "nbformat_minor": 5
}
