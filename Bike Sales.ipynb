{
 "cells": [
  {
   "cell_type": "markdown",
   "id": "fb9c8b09",
   "metadata": {},
   "source": [
    "## Introduction\n",
    "A local bike shop or local bicycle shop, sometimes abbreviated LBS, is a small business, as distinct from a chain, mail-order or online vendor, specializing in bicycle sale, maintenance and parts. We shall be analyzing an international Bike Shop in respect to their sales."
   ]
  },
  {
   "cell_type": "code",
   "execution_count": 21,
   "id": "f069e51e",
   "metadata": {},
   "outputs": [],
   "source": [
    "#import neccessary packages\n",
    "import numpy as np\n",
    "import pandas as pd\n",
    "import matplotlib.pyplot as plt\n",
    "import seaborn as sns\n"
   ]
  },
  {
   "cell_type": "markdown",
   "id": "7eb6c162",
   "metadata": {},
   "source": [
    "## Accessing Data"
   ]
  },
  {
   "cell_type": "code",
   "execution_count": 5,
   "id": "79accf38",
   "metadata": {},
   "outputs": [],
   "source": [
    "# import the csv file\n",
    "bike_sales= pd.read_csv(r\"C:\\Users\\HP\\Downloads\\archive\\Sales.csv\")"
   ]
  },
  {
   "cell_type": "code",
   "execution_count": 22,
   "id": "38ffd26b",
   "metadata": {},
   "outputs": [
    {
     "data": {
      "text/html": [
       "<div>\n",
       "<style scoped>\n",
       "    .dataframe tbody tr th:only-of-type {\n",
       "        vertical-align: middle;\n",
       "    }\n",
       "\n",
       "    .dataframe tbody tr th {\n",
       "        vertical-align: top;\n",
       "    }\n",
       "\n",
       "    .dataframe thead th {\n",
       "        text-align: right;\n",
       "    }\n",
       "</style>\n",
       "<table border=\"1\" class=\"dataframe\">\n",
       "  <thead>\n",
       "    <tr style=\"text-align: right;\">\n",
       "      <th></th>\n",
       "      <th>Date</th>\n",
       "      <th>Day</th>\n",
       "      <th>Month</th>\n",
       "      <th>Year</th>\n",
       "      <th>Customer_Age</th>\n",
       "      <th>Age_Group</th>\n",
       "      <th>Customer_Gender</th>\n",
       "      <th>Country</th>\n",
       "      <th>State</th>\n",
       "      <th>Product_Category</th>\n",
       "      <th>Sub_Category</th>\n",
       "      <th>Product</th>\n",
       "      <th>Order_Quantity</th>\n",
       "      <th>Unit_Cost</th>\n",
       "      <th>Unit_Price</th>\n",
       "      <th>Profit</th>\n",
       "      <th>Cost</th>\n",
       "      <th>Revenue</th>\n",
       "    </tr>\n",
       "  </thead>\n",
       "  <tbody>\n",
       "    <tr>\n",
       "      <th>0</th>\n",
       "      <td>2013-11-26</td>\n",
       "      <td>26</td>\n",
       "      <td>November</td>\n",
       "      <td>2013</td>\n",
       "      <td>19</td>\n",
       "      <td>Youth (&lt;25)</td>\n",
       "      <td>Male</td>\n",
       "      <td>Canada</td>\n",
       "      <td>British Columbia</td>\n",
       "      <td>Accessories</td>\n",
       "      <td>Bike Racks</td>\n",
       "      <td>Hitch Rack - 4-Bike</td>\n",
       "      <td>8</td>\n",
       "      <td>45</td>\n",
       "      <td>120</td>\n",
       "      <td>590</td>\n",
       "      <td>360</td>\n",
       "      <td>950</td>\n",
       "    </tr>\n",
       "    <tr>\n",
       "      <th>1</th>\n",
       "      <td>2015-11-26</td>\n",
       "      <td>26</td>\n",
       "      <td>November</td>\n",
       "      <td>2015</td>\n",
       "      <td>19</td>\n",
       "      <td>Youth (&lt;25)</td>\n",
       "      <td>Male</td>\n",
       "      <td>Canada</td>\n",
       "      <td>British Columbia</td>\n",
       "      <td>Accessories</td>\n",
       "      <td>Bike Racks</td>\n",
       "      <td>Hitch Rack - 4-Bike</td>\n",
       "      <td>8</td>\n",
       "      <td>45</td>\n",
       "      <td>120</td>\n",
       "      <td>590</td>\n",
       "      <td>360</td>\n",
       "      <td>950</td>\n",
       "    </tr>\n",
       "    <tr>\n",
       "      <th>2</th>\n",
       "      <td>2014-03-23</td>\n",
       "      <td>23</td>\n",
       "      <td>March</td>\n",
       "      <td>2014</td>\n",
       "      <td>49</td>\n",
       "      <td>Adults (35-64)</td>\n",
       "      <td>Male</td>\n",
       "      <td>Australia</td>\n",
       "      <td>New South Wales</td>\n",
       "      <td>Accessories</td>\n",
       "      <td>Bike Racks</td>\n",
       "      <td>Hitch Rack - 4-Bike</td>\n",
       "      <td>23</td>\n",
       "      <td>45</td>\n",
       "      <td>120</td>\n",
       "      <td>1366</td>\n",
       "      <td>1035</td>\n",
       "      <td>2401</td>\n",
       "    </tr>\n",
       "    <tr>\n",
       "      <th>3</th>\n",
       "      <td>2016-03-23</td>\n",
       "      <td>23</td>\n",
       "      <td>March</td>\n",
       "      <td>2016</td>\n",
       "      <td>49</td>\n",
       "      <td>Adults (35-64)</td>\n",
       "      <td>Male</td>\n",
       "      <td>Australia</td>\n",
       "      <td>New South Wales</td>\n",
       "      <td>Accessories</td>\n",
       "      <td>Bike Racks</td>\n",
       "      <td>Hitch Rack - 4-Bike</td>\n",
       "      <td>20</td>\n",
       "      <td>45</td>\n",
       "      <td>120</td>\n",
       "      <td>1188</td>\n",
       "      <td>900</td>\n",
       "      <td>2088</td>\n",
       "    </tr>\n",
       "    <tr>\n",
       "      <th>4</th>\n",
       "      <td>2014-05-15</td>\n",
       "      <td>15</td>\n",
       "      <td>May</td>\n",
       "      <td>2014</td>\n",
       "      <td>47</td>\n",
       "      <td>Adults (35-64)</td>\n",
       "      <td>Female</td>\n",
       "      <td>Australia</td>\n",
       "      <td>New South Wales</td>\n",
       "      <td>Accessories</td>\n",
       "      <td>Bike Racks</td>\n",
       "      <td>Hitch Rack - 4-Bike</td>\n",
       "      <td>4</td>\n",
       "      <td>45</td>\n",
       "      <td>120</td>\n",
       "      <td>238</td>\n",
       "      <td>180</td>\n",
       "      <td>418</td>\n",
       "    </tr>\n",
       "  </tbody>\n",
       "</table>\n",
       "</div>"
      ],
      "text/plain": [
       "         Date  Day     Month  Year  Customer_Age       Age_Group  \\\n",
       "0  2013-11-26   26  November  2013            19     Youth (<25)   \n",
       "1  2015-11-26   26  November  2015            19     Youth (<25)   \n",
       "2  2014-03-23   23     March  2014            49  Adults (35-64)   \n",
       "3  2016-03-23   23     March  2016            49  Adults (35-64)   \n",
       "4  2014-05-15   15       May  2014            47  Adults (35-64)   \n",
       "\n",
       "  Customer_Gender    Country             State Product_Category Sub_Category  \\\n",
       "0            Male     Canada  British Columbia      Accessories   Bike Racks   \n",
       "1            Male     Canada  British Columbia      Accessories   Bike Racks   \n",
       "2            Male  Australia   New South Wales      Accessories   Bike Racks   \n",
       "3            Male  Australia   New South Wales      Accessories   Bike Racks   \n",
       "4          Female  Australia   New South Wales      Accessories   Bike Racks   \n",
       "\n",
       "               Product  Order_Quantity  Unit_Cost  Unit_Price  Profit  Cost  \\\n",
       "0  Hitch Rack - 4-Bike               8         45         120     590   360   \n",
       "1  Hitch Rack - 4-Bike               8         45         120     590   360   \n",
       "2  Hitch Rack - 4-Bike              23         45         120    1366  1035   \n",
       "3  Hitch Rack - 4-Bike              20         45         120    1188   900   \n",
       "4  Hitch Rack - 4-Bike               4         45         120     238   180   \n",
       "\n",
       "   Revenue  \n",
       "0      950  \n",
       "1      950  \n",
       "2     2401  \n",
       "3     2088  \n",
       "4      418  "
      ]
     },
     "execution_count": 22,
     "metadata": {},
     "output_type": "execute_result"
    }
   ],
   "source": [
    "#preview datasets\n",
    "bike_sales.head()"
   ]
  },
  {
   "cell_type": "code",
   "execution_count": 7,
   "id": "288ead8e",
   "metadata": {},
   "outputs": [
    {
     "data": {
      "text/plain": [
       "(113036, 18)"
      ]
     },
     "execution_count": 7,
     "metadata": {},
     "output_type": "execute_result"
    }
   ],
   "source": [
    "bike_sales.shape"
   ]
  },
  {
   "cell_type": "code",
   "execution_count": 8,
   "id": "f470d549",
   "metadata": {},
   "outputs": [
    {
     "data": {
      "text/plain": [
       "Index(['Date', 'Day', 'Month', 'Year', 'Customer_Age', 'Age_Group',\n",
       "       'Customer_Gender', 'Country', 'State', 'Product_Category',\n",
       "       'Sub_Category', 'Product', 'Order_Quantity', 'Unit_Cost', 'Unit_Price',\n",
       "       'Profit', 'Cost', 'Revenue'],\n",
       "      dtype='object')"
      ]
     },
     "execution_count": 8,
     "metadata": {},
     "output_type": "execute_result"
    }
   ],
   "source": [
    "bike_sales.columns"
   ]
  },
  {
   "cell_type": "code",
   "execution_count": 9,
   "id": "d0cb3085",
   "metadata": {},
   "outputs": [
    {
     "data": {
      "text/html": [
       "<div>\n",
       "<style scoped>\n",
       "    .dataframe tbody tr th:only-of-type {\n",
       "        vertical-align: middle;\n",
       "    }\n",
       "\n",
       "    .dataframe tbody tr th {\n",
       "        vertical-align: top;\n",
       "    }\n",
       "\n",
       "    .dataframe thead th {\n",
       "        text-align: right;\n",
       "    }\n",
       "</style>\n",
       "<table border=\"1\" class=\"dataframe\">\n",
       "  <thead>\n",
       "    <tr style=\"text-align: right;\">\n",
       "      <th></th>\n",
       "      <th>count</th>\n",
       "      <th>mean</th>\n",
       "      <th>std</th>\n",
       "      <th>min</th>\n",
       "      <th>25%</th>\n",
       "      <th>50%</th>\n",
       "      <th>75%</th>\n",
       "      <th>max</th>\n",
       "    </tr>\n",
       "  </thead>\n",
       "  <tbody>\n",
       "    <tr>\n",
       "      <th>Day</th>\n",
       "      <td>113036.0</td>\n",
       "      <td>15.665753</td>\n",
       "      <td>8.781567</td>\n",
       "      <td>1.0</td>\n",
       "      <td>8.0</td>\n",
       "      <td>16.0</td>\n",
       "      <td>23.0</td>\n",
       "      <td>31.0</td>\n",
       "    </tr>\n",
       "    <tr>\n",
       "      <th>Year</th>\n",
       "      <td>113036.0</td>\n",
       "      <td>2014.401739</td>\n",
       "      <td>1.272510</td>\n",
       "      <td>2011.0</td>\n",
       "      <td>2013.0</td>\n",
       "      <td>2014.0</td>\n",
       "      <td>2016.0</td>\n",
       "      <td>2016.0</td>\n",
       "    </tr>\n",
       "    <tr>\n",
       "      <th>Customer_Age</th>\n",
       "      <td>113036.0</td>\n",
       "      <td>35.919212</td>\n",
       "      <td>11.021936</td>\n",
       "      <td>17.0</td>\n",
       "      <td>28.0</td>\n",
       "      <td>35.0</td>\n",
       "      <td>43.0</td>\n",
       "      <td>87.0</td>\n",
       "    </tr>\n",
       "    <tr>\n",
       "      <th>Order_Quantity</th>\n",
       "      <td>113036.0</td>\n",
       "      <td>11.901660</td>\n",
       "      <td>9.561857</td>\n",
       "      <td>1.0</td>\n",
       "      <td>2.0</td>\n",
       "      <td>10.0</td>\n",
       "      <td>20.0</td>\n",
       "      <td>32.0</td>\n",
       "    </tr>\n",
       "    <tr>\n",
       "      <th>Unit_Cost</th>\n",
       "      <td>113036.0</td>\n",
       "      <td>267.296366</td>\n",
       "      <td>549.835483</td>\n",
       "      <td>1.0</td>\n",
       "      <td>2.0</td>\n",
       "      <td>9.0</td>\n",
       "      <td>42.0</td>\n",
       "      <td>2171.0</td>\n",
       "    </tr>\n",
       "    <tr>\n",
       "      <th>Unit_Price</th>\n",
       "      <td>113036.0</td>\n",
       "      <td>452.938427</td>\n",
       "      <td>922.071219</td>\n",
       "      <td>2.0</td>\n",
       "      <td>5.0</td>\n",
       "      <td>24.0</td>\n",
       "      <td>70.0</td>\n",
       "      <td>3578.0</td>\n",
       "    </tr>\n",
       "    <tr>\n",
       "      <th>Profit</th>\n",
       "      <td>113036.0</td>\n",
       "      <td>285.051665</td>\n",
       "      <td>453.887443</td>\n",
       "      <td>-30.0</td>\n",
       "      <td>29.0</td>\n",
       "      <td>101.0</td>\n",
       "      <td>358.0</td>\n",
       "      <td>15096.0</td>\n",
       "    </tr>\n",
       "    <tr>\n",
       "      <th>Cost</th>\n",
       "      <td>113036.0</td>\n",
       "      <td>469.318695</td>\n",
       "      <td>884.866118</td>\n",
       "      <td>1.0</td>\n",
       "      <td>28.0</td>\n",
       "      <td>108.0</td>\n",
       "      <td>432.0</td>\n",
       "      <td>42978.0</td>\n",
       "    </tr>\n",
       "    <tr>\n",
       "      <th>Revenue</th>\n",
       "      <td>113036.0</td>\n",
       "      <td>754.370360</td>\n",
       "      <td>1309.094674</td>\n",
       "      <td>2.0</td>\n",
       "      <td>63.0</td>\n",
       "      <td>223.0</td>\n",
       "      <td>800.0</td>\n",
       "      <td>58074.0</td>\n",
       "    </tr>\n",
       "  </tbody>\n",
       "</table>\n",
       "</div>"
      ],
      "text/plain": [
       "                   count         mean          std     min     25%     50%  \\\n",
       "Day             113036.0    15.665753     8.781567     1.0     8.0    16.0   \n",
       "Year            113036.0  2014.401739     1.272510  2011.0  2013.0  2014.0   \n",
       "Customer_Age    113036.0    35.919212    11.021936    17.0    28.0    35.0   \n",
       "Order_Quantity  113036.0    11.901660     9.561857     1.0     2.0    10.0   \n",
       "Unit_Cost       113036.0   267.296366   549.835483     1.0     2.0     9.0   \n",
       "Unit_Price      113036.0   452.938427   922.071219     2.0     5.0    24.0   \n",
       "Profit          113036.0   285.051665   453.887443   -30.0    29.0   101.0   \n",
       "Cost            113036.0   469.318695   884.866118     1.0    28.0   108.0   \n",
       "Revenue         113036.0   754.370360  1309.094674     2.0    63.0   223.0   \n",
       "\n",
       "                   75%      max  \n",
       "Day               23.0     31.0  \n",
       "Year            2016.0   2016.0  \n",
       "Customer_Age      43.0     87.0  \n",
       "Order_Quantity    20.0     32.0  \n",
       "Unit_Cost         42.0   2171.0  \n",
       "Unit_Price        70.0   3578.0  \n",
       "Profit           358.0  15096.0  \n",
       "Cost             432.0  42978.0  \n",
       "Revenue          800.0  58074.0  "
      ]
     },
     "execution_count": 9,
     "metadata": {},
     "output_type": "execute_result"
    }
   ],
   "source": [
    "bike_sales.describe().transpose()"
   ]
  },
  {
   "cell_type": "code",
   "execution_count": 10,
   "id": "dbdd5f2c",
   "metadata": {},
   "outputs": [
    {
     "data": {
      "text/html": [
       "<div>\n",
       "<style scoped>\n",
       "    .dataframe tbody tr th:only-of-type {\n",
       "        vertical-align: middle;\n",
       "    }\n",
       "\n",
       "    .dataframe tbody tr th {\n",
       "        vertical-align: top;\n",
       "    }\n",
       "\n",
       "    .dataframe thead th {\n",
       "        text-align: right;\n",
       "    }\n",
       "</style>\n",
       "<table border=\"1\" class=\"dataframe\">\n",
       "  <thead>\n",
       "    <tr style=\"text-align: right;\">\n",
       "      <th></th>\n",
       "      <th>Date</th>\n",
       "      <th>Month</th>\n",
       "      <th>Age_Group</th>\n",
       "      <th>Customer_Gender</th>\n",
       "      <th>Country</th>\n",
       "      <th>State</th>\n",
       "      <th>Product_Category</th>\n",
       "      <th>Sub_Category</th>\n",
       "      <th>Product</th>\n",
       "    </tr>\n",
       "  </thead>\n",
       "  <tbody>\n",
       "    <tr>\n",
       "      <th>count</th>\n",
       "      <td>113036</td>\n",
       "      <td>113036</td>\n",
       "      <td>113036</td>\n",
       "      <td>113036</td>\n",
       "      <td>113036</td>\n",
       "      <td>113036</td>\n",
       "      <td>113036</td>\n",
       "      <td>113036</td>\n",
       "      <td>113036</td>\n",
       "    </tr>\n",
       "    <tr>\n",
       "      <th>unique</th>\n",
       "      <td>1884</td>\n",
       "      <td>12</td>\n",
       "      <td>4</td>\n",
       "      <td>2</td>\n",
       "      <td>6</td>\n",
       "      <td>53</td>\n",
       "      <td>3</td>\n",
       "      <td>17</td>\n",
       "      <td>130</td>\n",
       "    </tr>\n",
       "    <tr>\n",
       "      <th>top</th>\n",
       "      <td>2014-03-01</td>\n",
       "      <td>June</td>\n",
       "      <td>Adults (35-64)</td>\n",
       "      <td>M</td>\n",
       "      <td>United States</td>\n",
       "      <td>California</td>\n",
       "      <td>Accessories</td>\n",
       "      <td>Tires and Tubes</td>\n",
       "      <td>Water Bottle - 30 oz.</td>\n",
       "    </tr>\n",
       "    <tr>\n",
       "      <th>freq</th>\n",
       "      <td>288</td>\n",
       "      <td>11234</td>\n",
       "      <td>55824</td>\n",
       "      <td>58312</td>\n",
       "      <td>39206</td>\n",
       "      <td>22450</td>\n",
       "      <td>70120</td>\n",
       "      <td>33870</td>\n",
       "      <td>10794</td>\n",
       "    </tr>\n",
       "  </tbody>\n",
       "</table>\n",
       "</div>"
      ],
      "text/plain": [
       "              Date   Month       Age_Group Customer_Gender        Country  \\\n",
       "count       113036  113036          113036          113036         113036   \n",
       "unique        1884      12               4               2              6   \n",
       "top     2014-03-01    June  Adults (35-64)               M  United States   \n",
       "freq           288   11234           55824           58312          39206   \n",
       "\n",
       "             State Product_Category     Sub_Category                Product  \n",
       "count       113036           113036           113036                 113036  \n",
       "unique          53                3               17                    130  \n",
       "top     California      Accessories  Tires and Tubes  Water Bottle - 30 oz.  \n",
       "freq         22450            70120            33870                  10794  "
      ]
     },
     "execution_count": 10,
     "metadata": {},
     "output_type": "execute_result"
    }
   ],
   "source": [
    "bike_sales.describe(include='O')"
   ]
  },
  {
   "cell_type": "code",
   "execution_count": 11,
   "id": "7bdb3502",
   "metadata": {
    "scrolled": true
   },
   "outputs": [
    {
     "data": {
      "text/plain": [
       "Date                0\n",
       "Day                 0\n",
       "Month               0\n",
       "Year                0\n",
       "Customer_Age        0\n",
       "Age_Group           0\n",
       "Customer_Gender     0\n",
       "Country             0\n",
       "State               0\n",
       "Product_Category    0\n",
       "Sub_Category        0\n",
       "Product             0\n",
       "Order_Quantity      0\n",
       "Unit_Cost           0\n",
       "Unit_Price          0\n",
       "Profit              0\n",
       "Cost                0\n",
       "Revenue             0\n",
       "dtype: int64"
      ]
     },
     "execution_count": 11,
     "metadata": {},
     "output_type": "execute_result"
    }
   ],
   "source": [
    "bike_sales.isna().sum()"
   ]
  },
  {
   "cell_type": "markdown",
   "id": "f0c86752",
   "metadata": {},
   "source": [
    "# Data Wrangling"
   ]
  },
  {
   "cell_type": "code",
   "execution_count": 12,
   "id": "8b2cd49f",
   "metadata": {},
   "outputs": [],
   "source": [
    "# replace gender column values 'M' and 'F' with 'Male'and 'Female'\n",
    "bike_sales['Customer_Gender'].replace('M', 'Male', inplace =True)\n",
    "bike_sales['Customer_Gender'].replace('F', 'Female', inplace =True)"
   ]
  },
  {
   "cell_type": "markdown",
   "id": "393cb5f9",
   "metadata": {},
   "source": [
    "# Exploratory Data Analysis (EDA)"
   ]
  },
  {
   "cell_type": "code",
   "execution_count": 20,
   "id": "f1d56926",
   "metadata": {},
   "outputs": [
    {
     "data": {
      "text/plain": [
       "Male      58312\n",
       "Female    54724\n",
       "Name: Customer_Gender, dtype: int64"
      ]
     },
     "execution_count": 20,
     "metadata": {},
     "output_type": "execute_result"
    }
   ],
   "source": [
    "#what is the gender disribution\n",
    "bike_sales['Customer_Gender'].value_counts()"
   ]
  },
  {
   "cell_type": "code",
   "execution_count": 9,
   "id": "3a0f1c63",
   "metadata": {},
   "outputs": [
    {
     "data": {
      "text/plain": [
       "Adults (35-64)          55824\n",
       "Young Adults (25-34)    38654\n",
       "Youth (<25)             17828\n",
       "Seniors (64+)             730\n",
       "Name: Age_Group, dtype: int64"
      ]
     },
     "execution_count": 9,
     "metadata": {},
     "output_type": "execute_result"
    }
   ],
   "source": [
    "# what is the age distribution of the customers\n",
    "bike_sales['Age_Group'].value_counts(ascending=False)"
   ]
  },
  {
   "cell_type": "code",
   "execution_count": 15,
   "id": "b0175a4a",
   "metadata": {},
   "outputs": [
    {
     "data": {
      "text/plain": [
       "<AxesSubplot:title={'center':'Age Distribution'}, ylabel='Age_Group'>"
      ]
     },
     "execution_count": 15,
     "metadata": {},
     "output_type": "execute_result"
    },
    {
     "data": {
      "image/png": "[encoded data removed]",
      "text/plain": [
       "<Figure size 720x360 with 1 Axes>"
      ]
     },
     "metadata": {},
     "output_type": "display_data"
    }
   ],
   "source": [
    "bike_sales['Age_Group'].value_counts(ascending=False).plot(kind='pie',shadow=False, autopct='%.1f%%',figsize=(10,5), title='Age Distribution')"
   ]
  },
  {
   "cell_type": "code",
   "execution_count": 58,
   "id": "a397100b",
   "metadata": {
    "scrolled": true
   },
   "outputs": [
    {
     "data": {
      "text/plain": [
       "Year\n",
       "2015    7528563\n",
       "2016    7035948\n",
       "2013    5959208\n",
       "2014    5864087\n",
       "2012    2951993\n",
       "2011    2881301\n",
       "Name: Profit, dtype: int64"
      ]
     },
     "execution_count": 58,
     "metadata": {},
     "output_type": "execute_result"
    }
   ],
   "source": [
    "# what is the most profitable year\n",
    "bike_sales.groupby('Year')['Profit'].sum().sort_values(ascending= False)"
   ]
  },
  {
   "cell_type": "code",
   "execution_count": 88,
   "id": "2acb459d",
   "metadata": {},
   "outputs": [
    {
     "data": {
      "text/html": [
       "<div>\n",
       "<style scoped>\n",
       "    .dataframe tbody tr th:only-of-type {\n",
       "        vertical-align: middle;\n",
       "    }\n",
       "\n",
       "    .dataframe tbody tr th {\n",
       "        vertical-align: top;\n",
       "    }\n",
       "\n",
       "    .dataframe thead th {\n",
       "        text-align: right;\n",
       "    }\n",
       "</style>\n",
       "<table border=\"1\" class=\"dataframe\">\n",
       "  <thead>\n",
       "    <tr style=\"text-align: right;\">\n",
       "      <th>Month</th>\n",
       "      <th>April</th>\n",
       "      <th>August</th>\n",
       "      <th>December</th>\n",
       "      <th>February</th>\n",
       "      <th>January</th>\n",
       "      <th>July</th>\n",
       "      <th>June</th>\n",
       "      <th>March</th>\n",
       "      <th>May</th>\n",
       "      <th>November</th>\n",
       "      <th>October</th>\n",
       "      <th>September</th>\n",
       "      <th>All</th>\n",
       "    </tr>\n",
       "    <tr>\n",
       "      <th>Year</th>\n",
       "      <th></th>\n",
       "      <th></th>\n",
       "      <th></th>\n",
       "      <th></th>\n",
       "      <th></th>\n",
       "      <th></th>\n",
       "      <th></th>\n",
       "      <th></th>\n",
       "      <th></th>\n",
       "      <th></th>\n",
       "      <th></th>\n",
       "      <th></th>\n",
       "      <th></th>\n",
       "    </tr>\n",
       "  </thead>\n",
       "  <tbody>\n",
       "    <tr>\n",
       "      <th>2011</th>\n",
       "      <td>223601.0</td>\n",
       "      <td>285831.0</td>\n",
       "      <td>369192.0</td>\n",
       "      <td>207144.0</td>\n",
       "      <td>212849.0</td>\n",
       "      <td>288528.0</td>\n",
       "      <td>215029.0</td>\n",
       "      <td>226404.0</td>\n",
       "      <td>234689.0</td>\n",
       "      <td>181971.0</td>\n",
       "      <td>222507.0</td>\n",
       "      <td>213556.0</td>\n",
       "      <td>2881301</td>\n",
       "    </tr>\n",
       "    <tr>\n",
       "      <th>2012</th>\n",
       "      <td>236763.0</td>\n",
       "      <td>300608.0</td>\n",
       "      <td>360955.0</td>\n",
       "      <td>209113.0</td>\n",
       "      <td>211281.0</td>\n",
       "      <td>278194.0</td>\n",
       "      <td>226035.0</td>\n",
       "      <td>235084.0</td>\n",
       "      <td>245256.0</td>\n",
       "      <td>191771.0</td>\n",
       "      <td>236188.0</td>\n",
       "      <td>220745.0</td>\n",
       "      <td>2951993</td>\n",
       "    </tr>\n",
       "    <tr>\n",
       "      <th>2013</th>\n",
       "      <td>153803.0</td>\n",
       "      <td>751230.0</td>\n",
       "      <td>1200023.0</td>\n",
       "      <td>159939.0</td>\n",
       "      <td>143278.0</td>\n",
       "      <td>444939.0</td>\n",
       "      <td>175079.0</td>\n",
       "      <td>154707.0</td>\n",
       "      <td>196359.0</td>\n",
       "      <td>908884.0</td>\n",
       "      <td>841998.0</td>\n",
       "      <td>828969.0</td>\n",
       "      <td>5959208</td>\n",
       "    </tr>\n",
       "    <tr>\n",
       "      <th>2014</th>\n",
       "      <td>915671.0</td>\n",
       "      <td>NaN</td>\n",
       "      <td>NaN</td>\n",
       "      <td>800921.0</td>\n",
       "      <td>824846.0</td>\n",
       "      <td>263498.0</td>\n",
       "      <td>1119924.0</td>\n",
       "      <td>873053.0</td>\n",
       "      <td>1066174.0</td>\n",
       "      <td>NaN</td>\n",
       "      <td>NaN</td>\n",
       "      <td>NaN</td>\n",
       "      <td>5864087</td>\n",
       "    </tr>\n",
       "    <tr>\n",
       "      <th>2015</th>\n",
       "      <td>237588.0</td>\n",
       "      <td>876535.0</td>\n",
       "      <td>1479542.0</td>\n",
       "      <td>220611.0</td>\n",
       "      <td>219194.0</td>\n",
       "      <td>609952.0</td>\n",
       "      <td>258864.0</td>\n",
       "      <td>236086.0</td>\n",
       "      <td>297294.0</td>\n",
       "      <td>1105887.0</td>\n",
       "      <td>1000619.0</td>\n",
       "      <td>986391.0</td>\n",
       "      <td>7528563</td>\n",
       "    </tr>\n",
       "    <tr>\n",
       "      <th>2016</th>\n",
       "      <td>1097293.0</td>\n",
       "      <td>NaN</td>\n",
       "      <td>NaN</td>\n",
       "      <td>964594.0</td>\n",
       "      <td>1007073.0</td>\n",
       "      <td>254639.0</td>\n",
       "      <td>1388652.0</td>\n",
       "      <td>1036532.0</td>\n",
       "      <td>1287165.0</td>\n",
       "      <td>NaN</td>\n",
       "      <td>NaN</td>\n",
       "      <td>NaN</td>\n",
       "      <td>7035948</td>\n",
       "    </tr>\n",
       "    <tr>\n",
       "      <th>All</th>\n",
       "      <td>2864719.0</td>\n",
       "      <td>2214204.0</td>\n",
       "      <td>3409712.0</td>\n",
       "      <td>2562322.0</td>\n",
       "      <td>2618521.0</td>\n",
       "      <td>2139750.0</td>\n",
       "      <td>3383583.0</td>\n",
       "      <td>2761866.0</td>\n",
       "      <td>3326937.0</td>\n",
       "      <td>2388513.0</td>\n",
       "      <td>2301312.0</td>\n",
       "      <td>2249661.0</td>\n",
       "      <td>32221100</td>\n",
       "    </tr>\n",
       "  </tbody>\n",
       "</table>\n",
       "</div>"
      ],
      "text/plain": [
       "Month      April     August   December   February    January       July  \\\n",
       "Year                                                                      \n",
       "2011    223601.0   285831.0   369192.0   207144.0   212849.0   288528.0   \n",
       "2012    236763.0   300608.0   360955.0   209113.0   211281.0   278194.0   \n",
       "2013    153803.0   751230.0  1200023.0   159939.0   143278.0   444939.0   \n",
       "2014    915671.0        NaN        NaN   800921.0   824846.0   263498.0   \n",
       "2015    237588.0   876535.0  1479542.0   220611.0   219194.0   609952.0   \n",
       "2016   1097293.0        NaN        NaN   964594.0  1007073.0   254639.0   \n",
       "All    2864719.0  2214204.0  3409712.0  2562322.0  2618521.0  2139750.0   \n",
       "\n",
       "Month       June      March        May   November    October  September  \\\n",
       "Year                                                                      \n",
       "2011    215029.0   226404.0   234689.0   181971.0   222507.0   213556.0   \n",
       "2012    226035.0   235084.0   245256.0   191771.0   236188.0   220745.0   \n",
       "2013    175079.0   154707.0   196359.0   908884.0   841998.0   828969.0   \n",
       "2014   1119924.0   873053.0  1066174.0        NaN        NaN        NaN   \n",
       "2015    258864.0   236086.0   297294.0  1105887.0  1000619.0   986391.0   \n",
       "2016   1388652.0  1036532.0  1287165.0        NaN        NaN        NaN   \n",
       "All    3383583.0  2761866.0  3326937.0  2388513.0  2301312.0  2249661.0   \n",
       "\n",
       "Month       All  \n",
       "Year             \n",
       "2011    2881301  \n",
       "2012    2951993  \n",
       "2013    5959208  \n",
       "2014    5864087  \n",
       "2015    7528563  \n",
       "2016    7035948  \n",
       "All    32221100  "
      ]
     },
     "execution_count": 88,
     "metadata": {},
     "output_type": "execute_result"
    }
   ],
   "source": [
    "bike_sales.pivot_table(index='Year', columns='Month', values='Profit', aggfunc=np.sum, margins=True)"
   ]
  },
  {
   "cell_type": "code",
   "execution_count": 60,
   "id": "174d081a",
   "metadata": {
    "scrolled": true
   },
   "outputs": [
    {
     "data": {
      "text/plain": [
       "<AxesSubplot:ylabel='Year'>"
      ]
     },
     "execution_count": 60,
     "metadata": {},
     "output_type": "execute_result"
    },
    {
     "data": {
      "image/png": "[encoded data removed]",
      "text/plain": [
       "<Figure size 720x360 with 1 Axes>"
      ]
     },
     "metadata": {
      "needs_background": "light"
     },
     "output_type": "display_data"
    }
   ],
   "source": [
    "bike_sales.groupby('Year')['Profit'].sum().sort_values(ascending= True).plot(kind='barh', alpha=0.5, figsize=(10,5), color='Blue')"
   ]
  },
  {
   "cell_type": "code",
   "execution_count": 18,
   "id": "a55cd96b",
   "metadata": {},
   "outputs": [
    {
     "data": {
      "text/plain": [
       "Month     Year\n",
       "December  2015    1479542\n",
       "June      2016    1388652\n",
       "May       2016    1287165\n",
       "December  2013    1200023\n",
       "June      2014    1119924\n",
       "                   ...   \n",
       "          2013     175079\n",
       "February  2013     159939\n",
       "March     2013     154707\n",
       "April     2013     153803\n",
       "January   2013     143278\n",
       "Name: Profit, Length: 62, dtype: int64"
      ]
     },
     "execution_count": 18,
     "metadata": {},
     "output_type": "execute_result"
    }
   ],
   "source": [
    "# what is the most profitable month\n",
    "bike_sales.groupby(['Month','Year'])['Profit'].sum().sort_values(ascending= False)"
   ]
  },
  {
   "cell_type": "code",
   "execution_count": 69,
   "id": "03c56b94",
   "metadata": {},
   "outputs": [
    {
     "data": {
      "text/plain": [
       "<AxesSubplot:title={'center':'Monthly Profits from 2011 to 2016'}, xlabel='Month,Year'>"
      ]
     },
     "execution_count": 69,
     "metadata": {},
     "output_type": "execute_result"
    },
    {
     "data": {
      "image/png": "[encoded data removed]",
      "text/plain": [
       "<Figure size 1440x720 with 1 Axes>"
      ]
     },
     "metadata": {
      "needs_background": "light"
     },
     "output_type": "display_data"
    }
   ],
   "source": [
    "bike_sales.groupby(['Month','Year'])['Profit'].sum().sort_values(ascending= False).plot(kind='bar', title='Monthly Profits from 2011 to 2016', figsize=(20,10), color='Blue')"
   ]
  },
  {
   "cell_type": "code",
   "execution_count": 19,
   "id": "0d269673",
   "metadata": {
    "scrolled": true
   },
   "outputs": [
    {
     "data": {
      "text/plain": [
       "Customer_Gender\n",
       "Male      699583\n",
       "Female    645733\n",
       "Name: Order_Quantity, dtype: int64"
      ]
     },
     "execution_count": 19,
     "metadata": {},
     "output_type": "execute_result"
    }
   ],
   "source": [
    "#Gender with the most orders\n",
    "bike_sales.groupby('Customer_Gender')['Order_Quantity'].sum().sort_values(ascending=False)"
   ]
  },
  {
   "cell_type": "code",
   "execution_count": 71,
   "id": "188be1e0",
   "metadata": {
    "scrolled": true
   },
   "outputs": [
    {
     "data": {
      "text/plain": [
       "<AxesSubplot:title={'center':'Quantity order by Gender'}>"
      ]
     },
     "execution_count": 71,
     "metadata": {},
     "output_type": "execute_result"
    },
    {
     "data": {
      "image/png": "[encoded data removed]",
      "text/plain": [
       "<Figure size 720x360 with 1 Axes>"
      ]
     },
     "metadata": {},
     "output_type": "display_data"
    }
   ],
   "source": [
    "bike_sales.groupby('Customer_Gender')['Order_Quantity'].sum().sort_values(ascending=False).plot(kind='pie', figsize=(10,5), autopct='%.0f%%', title='Quantity order by Gender', ylabel='')"
   ]
  },
  {
   "cell_type": "code",
   "execution_count": 73,
   "id": "61f3af6c",
   "metadata": {},
   "outputs": [
    {
     "data": {
      "text/plain": [
       "Country\n",
       "United States     27975547\n",
       "Australia         21302059\n",
       "United Kingdom    10646196\n",
       "Germany            8978596\n",
       "France             8432872\n",
       "Canada             7935738\n",
       "Name: Revenue, dtype: int64"
      ]
     },
     "execution_count": 73,
     "metadata": {},
     "output_type": "execute_result"
    }
   ],
   "source": [
    "# Which country generates the highest revenue\n",
    "bike_sales.groupby('Country')['Revenue'].sum().sort_values(ascending=False)"
   ]
  },
  {
   "cell_type": "code",
   "execution_count": 79,
   "id": "3b030b27",
   "metadata": {},
   "outputs": [
    {
     "data": {
      "text/plain": [
       "<AxesSubplot:title={'center':'Top Ranked Countries By Revenue'}>"
      ]
     },
     "execution_count": 79,
     "metadata": {},
     "output_type": "execute_result"
    },
    {
     "data": {
      "image/png": "[encoded data removed]",
      "text/plain": [
       "<Figure size 1440x360 with 1 Axes>"
      ]
     },
     "metadata": {},
     "output_type": "display_data"
    }
   ],
   "source": [
    "bike_sales.groupby('Country')['Revenue'].sum().sort_values(ascending=False).plot(kind='pie', figsize=(20,5), autopct='%.0f%%', title='Top Ranked Countries By Revenue',startangle=90, ylabel=\"\")"
   ]
  },
  {
   "cell_type": "code",
   "execution_count": 81,
   "id": "589070ff",
   "metadata": {},
   "outputs": [
    {
     "data": {
      "text/plain": [
       "State\n",
       "California          17672620\n",
       "England             10646196\n",
       "New South Wales      9203495\n",
       "British Columbia     7877890\n",
       "Washington           6741510\n",
       "Queensland           5066267\n",
       "Victoria             5054839\n",
       "Oregon               3450410\n",
       "Hessen               2073391\n",
       "Saarland             2029545\n",
       "Name: Revenue, dtype: int64"
      ]
     },
     "execution_count": 81,
     "metadata": {},
     "output_type": "execute_result"
    }
   ],
   "source": [
    "# Which State generates the highest revenue\n",
    "bike_sales.groupby('State')['Revenue'].sum().sort_values(ascending=False).head(10)"
   ]
  },
  {
   "cell_type": "code",
   "execution_count": 84,
   "id": "12ea2aa2",
   "metadata": {
    "scrolled": true
   },
   "outputs": [
    {
     "data": {
      "text/plain": [
       "<AxesSubplot:title={'center':'States by Revenue'}, xlabel='State', ylabel='Revenue'>"
      ]
     },
     "execution_count": 84,
     "metadata": {},
     "output_type": "execute_result"
    },
    {
     "data": {
      "image/png": "[encoded data removed]",
      "text/plain": [
       "<Figure size 720x360 with 1 Axes>"
      ]
     },
     "metadata": {
      "needs_background": "light"
     },
     "output_type": "display_data"
    }
   ],
   "source": [
    "bike_sales.groupby('State')['Revenue'].sum().sort_values(ascending=False).head(10).plot(kind='bar', figsize=(10,5), ylabel='Revenue', title='States by Revenue')"
   ]
  },
  {
   "cell_type": "code",
   "execution_count": 97,
   "id": "26da3576",
   "metadata": {
    "scrolled": false
   },
   "outputs": [
    {
     "data": {
      "image/png": "[encoded data removed]",
      "text/plain": [
       "<Figure size 432x288 with 2 Axes>"
      ]
     },
     "metadata": {
      "needs_background": "light"
     },
     "output_type": "display_data"
    }
   ],
   "source": [
    "#correlation\n",
    "correlations= bike_sales.corr()\n",
    "sns.heatmap(correlations, linewidth =0.5)\n",
    "plt.show()"
   ]
  },
  {
   "cell_type": "markdown",
   "id": "75bd28d1",
   "metadata": {},
   "source": [
    "## Conclusions\n",
    "\n",
    "### Exploratory Data Analysis (EDA)\n",
    "In this phase, i used several mathematical tools and packages to explore and analyze my data, i made use of different visualization graphs to clearly demostrate relationships between variables, findings are explained below;\n",
    "\n",
    "- They seem to be more male customers(51.6%) than female customers(48.4%)\n",
    "- In terms of age group, Adults(35-64) was the most popular age group with over 49.4% of the entire population, while Seniors(64 and above) patronized the company ther least(0.6%)\n",
    "- In terms of yearof operations, 2015 was the most profitable year,with the company grosssing 7,528,563, while the December 2015 saw the highest ever monthly sales(1,479,542) This could be as a result of the holidays in December.\n",
    "- Within the time frame of 2011 to 2015, United States of America(USA) generated the highest revenue 27,975,547, which is approximately 33% of the entire countries revenue, Canada was the least as it generated only 7,935,738.\n",
    "- The city of California generated the highest revenue in terms of state.\n",
    "\n",
    "\n",
    "### Limitations\n",
    "- There was no limitations working with this dataset."
   ]
  }
 ],
 "metadata": {
  "kernelspec": {
   "display_name": "Python 3",
   "language": "python",
   "name": "python3"
  },
  "language_info": {
   "codemirror_mode": {
    "name": "ipython",
    "version": 3
   },
   "file_extension": ".py",
   "mimetype": "text/x-python",
   "name": "python",
   "nbconvert_exporter": "python",
   "pygments_lexer": "ipython3",
   "version": "3.8.8"
  }
 },
 "nbformat": 4,
 "nbformat_minor": 5
}
